{
 "cells": [
  {
   "cell_type": "code",
   "execution_count": 37,
   "metadata": {},
   "outputs": [],
   "source": [
    "import os\n",
    "import sys\n",
    "import numpy as np\n",
    "\n",
    "sys.path.append(\"../../../site-packages\")\n",
    "from gab.nonhydro import common"
   ]
  },
  {
   "cell_type": "code",
   "execution_count": 36,
   "metadata": {},
   "outputs": [],
   "source": [
    "testCase             = \"risingBubble\"\n",
    "hydrostatic          = False\n",
    "refinementLevel      = 1\n",
    "verticallyLagrangian = False\n",
    "\n",
    "Cp, Cv, Rd, g, Po, th0, N = common.constants(testCase)\n",
    "\n",
    "left, right, bottom, top, dx, nLev, dt, tf, saveDel, zSurf, thetaPtb \\\n",
    "= common.domainParameters(testCase, hydrostatic, refinementLevel, g, Cp, th0)\n",
    "\n",
    "xxMid = np.tile(x, (nLev,1))\n",
    "xxInt = np.tile(x, (nLev+1,1))"
   ]
  },
  {
   "cell_type": "code",
   "execution_count": 2,
   "metadata": {},
   "outputs": [],
   "source": [
    "def clearPrompt():\n",
    "    if os.name == \"nt\":\n",
    "        os.system(\"cls\")\n",
    "    else:\n",
    "        os.system(\"clear\")"
   ]
  },
  {
   "cell_type": "markdown",
   "metadata": {},
   "source": [
    "Run the code with no command-line inputs (or wrong inputs) to see the help information:"
   ]
  },
  {
   "cell_type": "code",
   "execution_count": 3,
   "metadata": {},
   "outputs": [],
   "source": [
    "clearPrompt()\n",
    "os.system(\"python main.py\");\n",
    "#NOTE: Look at the command prompt after running this cell."
   ]
  },
  {
   "cell_type": "markdown",
   "metadata": {},
   "source": [
    "Run using only the four required command-line arguments like this:"
   ]
  },
  {
   "cell_type": "code",
   "execution_count": 9,
   "metadata": {},
   "outputs": [],
   "source": [
    "clearPrompt()\n",
    "os.system(\"python main.py nonhydrostatic steadyState vEul 1\");"
   ]
  },
  {
   "cell_type": "markdown",
   "metadata": {},
   "source": [
    "Once you have run the code and saved the results, you can re-load and look at different fields like this:"
   ]
  },
  {
   "cell_type": "code",
   "execution_count": 6,
   "metadata": {},
   "outputs": [],
   "source": [
    "clearPrompt()\n",
    "os.system(\"python main.py nonhydrostatic risingBubble vEul 1 u fromSaved\");"
   ]
  }
 ],
 "metadata": {
  "kernelspec": {
   "display_name": "Python 3",
   "language": "python",
   "name": "python3"
  },
  "language_info": {
   "codemirror_mode": {
    "name": "ipython",
    "version": 3
   },
   "file_extension": ".py",
   "mimetype": "text/x-python",
   "name": "python",
   "nbconvert_exporter": "python",
   "pygments_lexer": "ipython3",
   "version": "3.6.5"
  }
 },
 "nbformat": 4,
 "nbformat_minor": 2
}
