{
 "cells": [
  {
   "cell_type": "code",
   "execution_count": 1,
   "metadata": {},
   "outputs": [],
   "source": [
    "import numpy as np\n",
    "import matplotlib.pyplot as plt\n",
    "import sys\n",
    "\n",
    "sys.path.append(\"../site-packages/\")\n",
    "\n",
    "from gab import phs1"
   ]
  },
  {
   "cell_type": "markdown",
   "metadata": {},
   "source": [
    "# traditional finite differences\n",
    "Assume that the approximate function is a linear combination of polynomials:\n",
    "$$\n",
    "s(x)=\\sum_{j=1}^n\\mu_jp_j(x)\n",
    "$$\n",
    "Force the function $s$ to match given function values at $n$ nodes:\n",
    "$$\n",
    "s\\left(x_i\\right)=\\sum_{j=1}^n\\mu_jp_j\\left(x_i\\right)=f_i,\\quad i=1,2,3,\\ldots,n.\n",
    "$$\n",
    "Solve the resulting square linear system:\n",
    "$$\n",
    "A\\mu=f,\n",
    "$$\n",
    "where\n",
    "$$\n",
    "a_{ij}=p_j\\left(x_i\\right),\\quad i,j=1,2,3,\\ldots,n.\n",
    "$$"
   ]
  }
 ],
 "metadata": {
  "kernelspec": {
   "display_name": "Python 3",
   "language": "python",
   "name": "python3"
  },
  "language_info": {
   "codemirror_mode": {
    "name": "ipython",
    "version": 3
   },
   "file_extension": ".py",
   "mimetype": "text/x-python",
   "name": "python",
   "nbconvert_exporter": "python",
   "pygments_lexer": "ipython3",
   "version": "3.6.5"
  }
 },
 "nbformat": 4,
 "nbformat_minor": 2
}
