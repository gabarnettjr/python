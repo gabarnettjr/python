{
 "cells": [
  {
   "cell_type": "code",
   "execution_count": null,
   "metadata": {},
   "outputs": [],
   "source": [
    "import numpy as np\n",
    "import matplotlib.pyplot as plt\n",
    "import sys\n",
    "\n",
    "sys.path.append(\"../site-packages/\")\n",
    "\n",
    "from gab import phs1"
   ]
  },
  {
   "cell_type": "markdown",
   "metadata": {},
   "source": [
    "# traditional finite differences"
   ]
  },
  {
   "cell_type": "markdown",
   "metadata": {},
   "source": [
    "Assume that the approximate function is a linear combination of polynomials:\n",
    "$$\n",
    "s(x)=\\sum_{j=1}^n\\mu_jp_j(x)\n",
    "$$\n",
    "Force the function $s$ to match given function values at $n$ nodes:\n",
    "$$\n",
    "s\\left(x_i\\right)=\\sum_{j=1}^n\\mu_jp_j\\left(x_i\\right)=f_i,\\quad i=1,2,3,\\ldots,n.\n",
    "$$\n",
    "Solve the resulting square linear system:\n",
    "$$\n",
    "A\\mu=f,\n",
    "$$\n",
    "where\n",
    "$$\n",
    "a_{ij}=p_j\\left(x_i\\right),\\quad i,j=1,2,3,\\ldots,n.\n",
    "$$"
   ]
  },
  {
   "cell_type": "markdown",
   "metadata": {},
   "source": [
    "# hyperviscosity weights comparison"
   ]
  },
  {
   "cell_type": "code",
   "execution_count": null,
   "metadata": {},
   "outputs": [],
   "source": [
    "z = -3        #evaluation point\n",
    "m = 6         #even number\n",
    "\n",
    "xPol = np.linspace(-m/2,   m/2, m+1)         #finite difference stencil\n",
    "xPhs = np.linspace(-(m-1), m-1, 2*m-1)       #PHS-FD stencil\n",
    "\n",
    "wPol = phs1.getWeights(z=z, x=xPol, m=m, phs=m+1,   pol=m)        #finite difference weights\n",
    "wPh1 = phs1.getWeights(z=z, x=xPhs, m=m, phs=2*m-1, pol=m-1)      #PHS-FD weights using large exponent\n",
    "wPh2 = phs1.getWeights(z=z, x=xPhs, m=m, phs=m+1,   pol=m-1)      #PHS-FD weights using small exponent\n",
    "\n",
    "plt.figure()\n",
    "plt.plot(xPol, wPol, linestyle='-', marker='.', color='red')\n",
    "plt.plot(xPhs, wPh1, linestyle='-', marker='.', color='black')\n",
    "plt.plot(xPhs, wPh2, linestyle='-', marker='.', color='green')\n",
    "plt.show()"
   ]
  }
 ],
 "metadata": {
  "kernelspec": {
   "display_name": "Python 3",
   "language": "python",
   "name": "python3"
  },
  "language_info": {
   "codemirror_mode": {
    "name": "ipython",
    "version": 3
   },
   "file_extension": ".py",
   "mimetype": "text/x-python",
   "name": "python",
   "nbconvert_exporter": "python",
   "pygments_lexer": "ipython3",
   "version": "3.6.5"
  }
 },
 "nbformat": 4,
 "nbformat_minor": 2
}
